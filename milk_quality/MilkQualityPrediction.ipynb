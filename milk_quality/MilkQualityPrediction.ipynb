{
 "cells": [
  {
   "cell_type": "code",
   "execution_count": 4,
   "id": "0f0ec41b-cfaf-426f-8aeb-d6feebd1243b",
   "metadata": {},
   "outputs": [],
   "source": [
    "import pandas as pd\n",
    "import matplotlib.pyplot as plt\n",
    "import seaborn as sbn"
   ]
  },
  {
   "cell_type": "code",
   "execution_count": 5,
   "id": "4ad9685d-3743-4463-b566-6715c424d64c",
   "metadata": {},
   "outputs": [
    {
     "data": {
      "text/html": [
       "<div>\n",
       "<style scoped>\n",
       "    .dataframe tbody tr th:only-of-type {\n",
       "        vertical-align: middle;\n",
       "    }\n",
       "\n",
       "    .dataframe tbody tr th {\n",
       "        vertical-align: top;\n",
       "    }\n",
       "\n",
       "    .dataframe thead th {\n",
       "        text-align: right;\n",
       "    }\n",
       "</style>\n",
       "<table border=\"1\" class=\"dataframe\">\n",
       "  <thead>\n",
       "    <tr style=\"text-align: right;\">\n",
       "      <th></th>\n",
       "      <th>pH</th>\n",
       "      <th>Temprature</th>\n",
       "      <th>Taste</th>\n",
       "      <th>Odor</th>\n",
       "      <th>Fat</th>\n",
       "      <th>Turbidity</th>\n",
       "      <th>Colour</th>\n",
       "      <th>Grade</th>\n",
       "    </tr>\n",
       "  </thead>\n",
       "  <tbody>\n",
       "    <tr>\n",
       "      <th>0</th>\n",
       "      <td>6.6</td>\n",
       "      <td>35</td>\n",
       "      <td>1</td>\n",
       "      <td>0</td>\n",
       "      <td>1</td>\n",
       "      <td>0</td>\n",
       "      <td>254</td>\n",
       "      <td>high</td>\n",
       "    </tr>\n",
       "    <tr>\n",
       "      <th>1</th>\n",
       "      <td>6.6</td>\n",
       "      <td>36</td>\n",
       "      <td>0</td>\n",
       "      <td>1</td>\n",
       "      <td>0</td>\n",
       "      <td>1</td>\n",
       "      <td>253</td>\n",
       "      <td>high</td>\n",
       "    </tr>\n",
       "    <tr>\n",
       "      <th>2</th>\n",
       "      <td>8.5</td>\n",
       "      <td>70</td>\n",
       "      <td>1</td>\n",
       "      <td>1</td>\n",
       "      <td>1</td>\n",
       "      <td>1</td>\n",
       "      <td>246</td>\n",
       "      <td>low</td>\n",
       "    </tr>\n",
       "    <tr>\n",
       "      <th>3</th>\n",
       "      <td>9.5</td>\n",
       "      <td>34</td>\n",
       "      <td>1</td>\n",
       "      <td>1</td>\n",
       "      <td>0</td>\n",
       "      <td>1</td>\n",
       "      <td>255</td>\n",
       "      <td>low</td>\n",
       "    </tr>\n",
       "    <tr>\n",
       "      <th>4</th>\n",
       "      <td>6.6</td>\n",
       "      <td>37</td>\n",
       "      <td>0</td>\n",
       "      <td>0</td>\n",
       "      <td>0</td>\n",
       "      <td>0</td>\n",
       "      <td>255</td>\n",
       "      <td>medium</td>\n",
       "    </tr>\n",
       "  </tbody>\n",
       "</table>\n",
       "</div>"
      ],
      "text/plain": [
       "    pH  Temprature  Taste  Odor  Fat   Turbidity  Colour   Grade\n",
       "0  6.6          35      1     0     1          0     254    high\n",
       "1  6.6          36      0     1     0          1     253    high\n",
       "2  8.5          70      1     1     1          1     246     low\n",
       "3  9.5          34      1     1     0          1     255     low\n",
       "4  6.6          37      0     0     0          0     255  medium"
      ]
     },
     "execution_count": 5,
     "metadata": {},
     "output_type": "execute_result"
    }
   ],
   "source": [
    "data = pd.read_csv('milknew.csv')\n",
    "data.head()"
   ]
  },
  {
   "cell_type": "markdown",
   "id": "7bfd92e5-0710-4f1a-b3de-9d00884e32d5",
   "metadata": {
    "tags": []
   },
   "source": [
    "# Exploratory Data Analysis"
   ]
  },
  {
   "cell_type": "code",
   "execution_count": 6,
   "id": "c7ee99ff-7b3a-4d0c-ab4a-8f9c86816196",
   "metadata": {},
   "outputs": [
    {
     "data": {
      "text/plain": [
       "(1059, 8)"
      ]
     },
     "execution_count": 6,
     "metadata": {},
     "output_type": "execute_result"
    }
   ],
   "source": [
    "data.shape # Rows,Columns"
   ]
  },
  {
   "cell_type": "code",
   "execution_count": 7,
   "id": "5c6c3249-547c-4361-aad9-66cb8121ab65",
   "metadata": {},
   "outputs": [],
   "source": [
    "data['Grade'].replace({'high':2,'medium':1,'low':0},inplace=True) # Or you can use label encoder."
   ]
  },
  {
   "cell_type": "code",
   "execution_count": 8,
   "id": "44d6f345-5332-4a74-9a76-0666f20014f7",
   "metadata": {},
   "outputs": [
    {
     "data": {
      "text/html": [
       "<div>\n",
       "<style scoped>\n",
       "    .dataframe tbody tr th:only-of-type {\n",
       "        vertical-align: middle;\n",
       "    }\n",
       "\n",
       "    .dataframe tbody tr th {\n",
       "        vertical-align: top;\n",
       "    }\n",
       "\n",
       "    .dataframe thead th {\n",
       "        text-align: right;\n",
       "    }\n",
       "</style>\n",
       "<table border=\"1\" class=\"dataframe\">\n",
       "  <thead>\n",
       "    <tr style=\"text-align: right;\">\n",
       "      <th></th>\n",
       "      <th>pH</th>\n",
       "      <th>Temprature</th>\n",
       "      <th>Taste</th>\n",
       "      <th>Odor</th>\n",
       "      <th>Fat</th>\n",
       "      <th>Turbidity</th>\n",
       "      <th>Colour</th>\n",
       "      <th>Grade</th>\n",
       "    </tr>\n",
       "  </thead>\n",
       "  <tbody>\n",
       "    <tr>\n",
       "      <th>0</th>\n",
       "      <td>6.6</td>\n",
       "      <td>35</td>\n",
       "      <td>1</td>\n",
       "      <td>0</td>\n",
       "      <td>1</td>\n",
       "      <td>0</td>\n",
       "      <td>254</td>\n",
       "      <td>2</td>\n",
       "    </tr>\n",
       "    <tr>\n",
       "      <th>1</th>\n",
       "      <td>6.6</td>\n",
       "      <td>36</td>\n",
       "      <td>0</td>\n",
       "      <td>1</td>\n",
       "      <td>0</td>\n",
       "      <td>1</td>\n",
       "      <td>253</td>\n",
       "      <td>2</td>\n",
       "    </tr>\n",
       "    <tr>\n",
       "      <th>2</th>\n",
       "      <td>8.5</td>\n",
       "      <td>70</td>\n",
       "      <td>1</td>\n",
       "      <td>1</td>\n",
       "      <td>1</td>\n",
       "      <td>1</td>\n",
       "      <td>246</td>\n",
       "      <td>0</td>\n",
       "    </tr>\n",
       "    <tr>\n",
       "      <th>3</th>\n",
       "      <td>9.5</td>\n",
       "      <td>34</td>\n",
       "      <td>1</td>\n",
       "      <td>1</td>\n",
       "      <td>0</td>\n",
       "      <td>1</td>\n",
       "      <td>255</td>\n",
       "      <td>0</td>\n",
       "    </tr>\n",
       "    <tr>\n",
       "      <th>4</th>\n",
       "      <td>6.6</td>\n",
       "      <td>37</td>\n",
       "      <td>0</td>\n",
       "      <td>0</td>\n",
       "      <td>0</td>\n",
       "      <td>0</td>\n",
       "      <td>255</td>\n",
       "      <td>1</td>\n",
       "    </tr>\n",
       "  </tbody>\n",
       "</table>\n",
       "</div>"
      ],
      "text/plain": [
       "    pH  Temprature  Taste  Odor  Fat   Turbidity  Colour  Grade\n",
       "0  6.6          35      1     0     1          0     254      2\n",
       "1  6.6          36      0     1     0          1     253      2\n",
       "2  8.5          70      1     1     1          1     246      0\n",
       "3  9.5          34      1     1     0          1     255      0\n",
       "4  6.6          37      0     0     0          0     255      1"
      ]
     },
     "execution_count": 8,
     "metadata": {},
     "output_type": "execute_result"
    }
   ],
   "source": [
    "data.head()"
   ]
  },
  {
   "cell_type": "code",
   "execution_count": 9,
   "id": "6f26ad4a-87c4-4236-9ede-6951cd521d55",
   "metadata": {},
   "outputs": [
    {
     "data": {
      "text/html": [
       "<div>\n",
       "<style scoped>\n",
       "    .dataframe tbody tr th:only-of-type {\n",
       "        vertical-align: middle;\n",
       "    }\n",
       "\n",
       "    .dataframe tbody tr th {\n",
       "        vertical-align: top;\n",
       "    }\n",
       "\n",
       "    .dataframe thead th {\n",
       "        text-align: right;\n",
       "    }\n",
       "</style>\n",
       "<table border=\"1\" class=\"dataframe\">\n",
       "  <thead>\n",
       "    <tr style=\"text-align: right;\">\n",
       "      <th></th>\n",
       "      <th>pH</th>\n",
       "      <th>Temprature</th>\n",
       "      <th>Taste</th>\n",
       "      <th>Odor</th>\n",
       "      <th>Fat</th>\n",
       "      <th>Turbidity</th>\n",
       "      <th>Colour</th>\n",
       "      <th>Grade</th>\n",
       "    </tr>\n",
       "  </thead>\n",
       "  <tbody>\n",
       "    <tr>\n",
       "      <th>count</th>\n",
       "      <td>1059.000000</td>\n",
       "      <td>1059.000000</td>\n",
       "      <td>1059.000000</td>\n",
       "      <td>1059.000000</td>\n",
       "      <td>1059.000000</td>\n",
       "      <td>1059.000000</td>\n",
       "      <td>1059.000000</td>\n",
       "      <td>1059.000000</td>\n",
       "    </tr>\n",
       "    <tr>\n",
       "      <th>mean</th>\n",
       "      <td>6.630123</td>\n",
       "      <td>44.226629</td>\n",
       "      <td>0.546742</td>\n",
       "      <td>0.432483</td>\n",
       "      <td>0.671388</td>\n",
       "      <td>0.491029</td>\n",
       "      <td>251.840415</td>\n",
       "      <td>0.836638</td>\n",
       "    </tr>\n",
       "    <tr>\n",
       "      <th>std</th>\n",
       "      <td>1.399679</td>\n",
       "      <td>10.098364</td>\n",
       "      <td>0.498046</td>\n",
       "      <td>0.495655</td>\n",
       "      <td>0.469930</td>\n",
       "      <td>0.500156</td>\n",
       "      <td>4.307424</td>\n",
       "      <td>0.787868</td>\n",
       "    </tr>\n",
       "    <tr>\n",
       "      <th>min</th>\n",
       "      <td>3.000000</td>\n",
       "      <td>34.000000</td>\n",
       "      <td>0.000000</td>\n",
       "      <td>0.000000</td>\n",
       "      <td>0.000000</td>\n",
       "      <td>0.000000</td>\n",
       "      <td>240.000000</td>\n",
       "      <td>0.000000</td>\n",
       "    </tr>\n",
       "    <tr>\n",
       "      <th>25%</th>\n",
       "      <td>6.500000</td>\n",
       "      <td>38.000000</td>\n",
       "      <td>0.000000</td>\n",
       "      <td>0.000000</td>\n",
       "      <td>0.000000</td>\n",
       "      <td>0.000000</td>\n",
       "      <td>250.000000</td>\n",
       "      <td>0.000000</td>\n",
       "    </tr>\n",
       "    <tr>\n",
       "      <th>50%</th>\n",
       "      <td>6.700000</td>\n",
       "      <td>41.000000</td>\n",
       "      <td>1.000000</td>\n",
       "      <td>0.000000</td>\n",
       "      <td>1.000000</td>\n",
       "      <td>0.000000</td>\n",
       "      <td>255.000000</td>\n",
       "      <td>1.000000</td>\n",
       "    </tr>\n",
       "    <tr>\n",
       "      <th>75%</th>\n",
       "      <td>6.800000</td>\n",
       "      <td>45.000000</td>\n",
       "      <td>1.000000</td>\n",
       "      <td>1.000000</td>\n",
       "      <td>1.000000</td>\n",
       "      <td>1.000000</td>\n",
       "      <td>255.000000</td>\n",
       "      <td>1.000000</td>\n",
       "    </tr>\n",
       "    <tr>\n",
       "      <th>max</th>\n",
       "      <td>9.500000</td>\n",
       "      <td>90.000000</td>\n",
       "      <td>1.000000</td>\n",
       "      <td>1.000000</td>\n",
       "      <td>1.000000</td>\n",
       "      <td>1.000000</td>\n",
       "      <td>255.000000</td>\n",
       "      <td>2.000000</td>\n",
       "    </tr>\n",
       "  </tbody>\n",
       "</table>\n",
       "</div>"
      ],
      "text/plain": [
       "                pH   Temprature        Taste         Odor         Fat   \\\n",
       "count  1059.000000  1059.000000  1059.000000  1059.000000  1059.000000   \n",
       "mean      6.630123    44.226629     0.546742     0.432483     0.671388   \n",
       "std       1.399679    10.098364     0.498046     0.495655     0.469930   \n",
       "min       3.000000    34.000000     0.000000     0.000000     0.000000   \n",
       "25%       6.500000    38.000000     0.000000     0.000000     0.000000   \n",
       "50%       6.700000    41.000000     1.000000     0.000000     1.000000   \n",
       "75%       6.800000    45.000000     1.000000     1.000000     1.000000   \n",
       "max       9.500000    90.000000     1.000000     1.000000     1.000000   \n",
       "\n",
       "         Turbidity       Colour        Grade  \n",
       "count  1059.000000  1059.000000  1059.000000  \n",
       "mean      0.491029   251.840415     0.836638  \n",
       "std       0.500156     4.307424     0.787868  \n",
       "min       0.000000   240.000000     0.000000  \n",
       "25%       0.000000   250.000000     0.000000  \n",
       "50%       0.000000   255.000000     1.000000  \n",
       "75%       1.000000   255.000000     1.000000  \n",
       "max       1.000000   255.000000     2.000000  "
      ]
     },
     "execution_count": 9,
     "metadata": {},
     "output_type": "execute_result"
    }
   ],
   "source": [
    "data.describe()"
   ]
  },
  {
   "cell_type": "code",
   "execution_count": 10,
   "id": "11d6c9d3-9a21-4446-8656-5696f99413c1",
   "metadata": {},
   "outputs": [
    {
     "data": {
      "text/plain": [
       "pH            0\n",
       "Temprature    0\n",
       "Taste         0\n",
       "Odor          0\n",
       "Fat           0\n",
       "Turbidity     0\n",
       "Colour        0\n",
       "Grade         0\n",
       "dtype: int64"
      ]
     },
     "execution_count": 10,
     "metadata": {},
     "output_type": "execute_result"
    }
   ],
   "source": [
    "data.isnull().sum() # We don't have any null wariables.(So,you can pass the missing values handling part.)"
   ]
  },
  {
   "cell_type": "markdown",
   "id": "f1640e8f",
   "metadata": {},
   "source": [
    "# Checking if we need to dimensionaly reduction"
   ]
  },
  {
   "cell_type": "code",
   "execution_count": 11,
   "id": "2dbab759-20fc-420d-b9e8-38aed0f84dc9",
   "metadata": {},
   "outputs": [
    {
     "data": {
      "image/png": "[encoded data removed]",
      "text/plain": [
       "<Figure size 720x504 with 2 Axes>"
      ]
     },
     "metadata": {
      "needs_background": "light"
     },
     "output_type": "display_data"
    }
   ],
   "source": [
    "sbn.heatmap(data.corr(),annot = True,cmap='terrain')\n",
    "fig = plt.gcf()\n",
    "fig.set_size_inches(10,7)\n",
    "plt.show()"
   ]
  },
  {
   "cell_type": "markdown",
   "id": "c66bd6fc-ef53-4045-a93e-8702940956c0",
   "metadata": {},
   "source": [
    "# Let's check the outlier using boxplot"
   ]
  },
  {
   "cell_type": "code",
   "execution_count": 12,
   "id": "3463c6ff-288f-4b44-b37a-c065a2d597ef",
   "metadata": {},
   "outputs": [
    {
     "data": {
      "image/png": "[encoded data removed]",
      "text/plain": [
       "<Figure size 1080x432 with 1 Axes>"
      ]
     },
     "metadata": {
      "needs_background": "light"
     },
     "output_type": "display_data"
    }
   ],
   "source": [
    "data.boxplot(figsize = (15,6))\n",
    "plt.show()"
   ]
  },
  {
   "cell_type": "code",
   "execution_count": 13,
   "id": "f849d961-595d-48e5-81d4-5b59ce5928bd",
   "metadata": {},
   "outputs": [],
   "source": [
    "# All the features are important for our prediction,so we won't drop any features in our dataset."
   ]
  },
  {
   "cell_type": "code",
   "execution_count": 14,
   "id": "372de73a-b175-4bf4-9d0b-0506f0560255",
   "metadata": {},
   "outputs": [
    {
     "data": {
      "text/plain": [
       "0    429\n",
       "1    374\n",
       "2    256\n",
       "Name: Grade, dtype: int64"
      ]
     },
     "execution_count": 14,
     "metadata": {},
     "output_type": "execute_result"
    }
   ],
   "source": [
    "data['Grade'].value_counts()"
   ]
  },
  {
   "cell_type": "code",
   "execution_count": 15,
   "id": "7ec1181d-1e81-4704-9f78-884851a896c8",
   "metadata": {},
   "outputs": [
    {
     "name": "stderr",
     "output_type": "stream",
     "text": [
      "C:\\Users\\User\\anaconda3\\lib\\site-packages\\seaborn\\_decorators.py:36: FutureWarning: Pass the following variable as a keyword arg: x. From version 0.12, the only valid positional argument will be `data`, and passing other arguments without an explicit keyword will result in an error or misinterpretation.\n",
      "  warnings.warn(\n"
     ]
    },
    {
     "data": {
      "image/png": "[encoded data removed]",
      "text/plain": [
       "<Figure size 432x288 with 1 Axes>"
      ]
     },
     "metadata": {
      "needs_background": "light"
     },
     "output_type": "display_data"
    }
   ],
   "source": [
    "sbn.countplot(data['Grade'])\n",
    "plt.show()\n",
    "## 0:Low Quality | 1:Medium Quality | 2:High Quality"
   ]
  },
  {
   "cell_type": "code",
   "execution_count": 16,
   "id": "fb7f27e0",
   "metadata": {},
   "outputs": [
    {
     "data": {
      "image/png": "[encoded data removed]",
      "text/plain": [
       "<Figure size 1080x720 with 9 Axes>"
      ]
     },
     "metadata": {
      "needs_background": "light"
     },
     "output_type": "display_data"
    }
   ],
   "source": [
    "data.hist(figsize =(15,10))\n",
    "plt.show()"
   ]
  },
  {
   "cell_type": "code",
   "execution_count": 17,
   "id": "5f3f14e0",
   "metadata": {},
   "outputs": [
    {
     "data": {
      "text/plain": [
       "<seaborn.axisgrid.PairGrid at 0xf2206a0>"
      ]
     },
     "execution_count": 17,
     "metadata": {},
     "output_type": "execute_result"
    },
    {
     "data": {
      "image/png": "[encoded data removed]",
      "text/plain": [
       "<Figure size 2880x2880 with 72 Axes>"
      ]
     },
     "metadata": {
      "needs_background": "light"
     },
     "output_type": "display_data"
    }
   ],
   "source": [
    "sbn.pairplot(data,height=5)"
   ]
  },
  {
   "cell_type": "code",
   "execution_count": 20,
   "id": "ff521d43",
   "metadata": {},
   "outputs": [],
   "source": [
    "X = data.drop('Grade',axis = 1) # Input data"
   ]
  },
  {
   "cell_type": "code",
   "execution_count": 19,
   "id": "5b5d072e",
   "metadata": {},
   "outputs": [
    {
     "data": {
      "text/html": [
       "<div>\n",
       "<style scoped>\n",
       "    .dataframe tbody tr th:only-of-type {\n",
       "        vertical-align: middle;\n",
       "    }\n",
       "\n",
       "    .dataframe tbody tr th {\n",
       "        vertical-align: top;\n",
       "    }\n",
       "\n",
       "    .dataframe thead th {\n",
       "        text-align: right;\n",
       "    }\n",
       "</style>\n",
       "<table border=\"1\" class=\"dataframe\">\n",
       "  <thead>\n",
       "    <tr style=\"text-align: right;\">\n",
       "      <th></th>\n",
       "      <th>pH</th>\n",
       "      <th>Temprature</th>\n",
       "      <th>Taste</th>\n",
       "      <th>Odor</th>\n",
       "      <th>Fat</th>\n",
       "      <th>Turbidity</th>\n",
       "      <th>Colour</th>\n",
       "    </tr>\n",
       "  </thead>\n",
       "  <tbody>\n",
       "    <tr>\n",
       "      <th>0</th>\n",
       "      <td>6.6</td>\n",
       "      <td>35</td>\n",
       "      <td>1</td>\n",
       "      <td>0</td>\n",
       "      <td>1</td>\n",
       "      <td>0</td>\n",
       "      <td>254</td>\n",
       "    </tr>\n",
       "    <tr>\n",
       "      <th>1</th>\n",
       "      <td>6.6</td>\n",
       "      <td>36</td>\n",
       "      <td>0</td>\n",
       "      <td>1</td>\n",
       "      <td>0</td>\n",
       "      <td>1</td>\n",
       "      <td>253</td>\n",
       "    </tr>\n",
       "    <tr>\n",
       "      <th>2</th>\n",
       "      <td>8.5</td>\n",
       "      <td>70</td>\n",
       "      <td>1</td>\n",
       "      <td>1</td>\n",
       "      <td>1</td>\n",
       "      <td>1</td>\n",
       "      <td>246</td>\n",
       "    </tr>\n",
       "    <tr>\n",
       "      <th>3</th>\n",
       "      <td>9.5</td>\n",
       "      <td>34</td>\n",
       "      <td>1</td>\n",
       "      <td>1</td>\n",
       "      <td>0</td>\n",
       "      <td>1</td>\n",
       "      <td>255</td>\n",
       "    </tr>\n",
       "    <tr>\n",
       "      <th>4</th>\n",
       "      <td>6.6</td>\n",
       "      <td>37</td>\n",
       "      <td>0</td>\n",
       "      <td>0</td>\n",
       "      <td>0</td>\n",
       "      <td>0</td>\n",
       "      <td>255</td>\n",
       "    </tr>\n",
       "    <tr>\n",
       "      <th>...</th>\n",
       "      <td>...</td>\n",
       "      <td>...</td>\n",
       "      <td>...</td>\n",
       "      <td>...</td>\n",
       "      <td>...</td>\n",
       "      <td>...</td>\n",
       "      <td>...</td>\n",
       "    </tr>\n",
       "    <tr>\n",
       "      <th>1054</th>\n",
       "      <td>6.7</td>\n",
       "      <td>45</td>\n",
       "      <td>1</td>\n",
       "      <td>1</td>\n",
       "      <td>0</td>\n",
       "      <td>0</td>\n",
       "      <td>247</td>\n",
       "    </tr>\n",
       "    <tr>\n",
       "      <th>1055</th>\n",
       "      <td>6.7</td>\n",
       "      <td>38</td>\n",
       "      <td>1</td>\n",
       "      <td>0</td>\n",
       "      <td>1</td>\n",
       "      <td>0</td>\n",
       "      <td>255</td>\n",
       "    </tr>\n",
       "    <tr>\n",
       "      <th>1056</th>\n",
       "      <td>3.0</td>\n",
       "      <td>40</td>\n",
       "      <td>1</td>\n",
       "      <td>1</td>\n",
       "      <td>1</td>\n",
       "      <td>1</td>\n",
       "      <td>255</td>\n",
       "    </tr>\n",
       "    <tr>\n",
       "      <th>1057</th>\n",
       "      <td>6.8</td>\n",
       "      <td>43</td>\n",
       "      <td>1</td>\n",
       "      <td>0</td>\n",
       "      <td>1</td>\n",
       "      <td>0</td>\n",
       "      <td>250</td>\n",
       "    </tr>\n",
       "    <tr>\n",
       "      <th>1058</th>\n",
       "      <td>8.6</td>\n",
       "      <td>55</td>\n",
       "      <td>0</td>\n",
       "      <td>1</td>\n",
       "      <td>1</td>\n",
       "      <td>1</td>\n",
       "      <td>255</td>\n",
       "    </tr>\n",
       "  </tbody>\n",
       "</table>\n",
       "<p>1059 rows × 7 columns</p>\n",
       "</div>"
      ],
      "text/plain": [
       "       pH  Temprature  Taste  Odor  Fat   Turbidity  Colour\n",
       "0     6.6          35      1     0     1          0     254\n",
       "1     6.6          36      0     1     0          1     253\n",
       "2     8.5          70      1     1     1          1     246\n",
       "3     9.5          34      1     1     0          1     255\n",
       "4     6.6          37      0     0     0          0     255\n",
       "...   ...         ...    ...   ...   ...        ...     ...\n",
       "1054  6.7          45      1     1     0          0     247\n",
       "1055  6.7          38      1     0     1          0     255\n",
       "1056  3.0          40      1     1     1          1     255\n",
       "1057  6.8          43      1     0     1          0     250\n",
       "1058  8.6          55      0     1     1          1     255\n",
       "\n",
       "[1059 rows x 7 columns]"
      ]
     },
     "execution_count": 19,
     "metadata": {},
     "output_type": "execute_result"
    }
   ],
   "source": [
    "X"
   ]
  },
  {
   "cell_type": "code",
   "execution_count": 21,
   "id": "069b8e7f",
   "metadata": {},
   "outputs": [],
   "source": [
    "Y = data['Grade']"
   ]
  },
  {
   "cell_type": "code",
   "execution_count": 22,
   "id": "e55a50c4",
   "metadata": {},
   "outputs": [
    {
     "data": {
      "text/plain": [
       "0       2\n",
       "1       2\n",
       "2       0\n",
       "3       0\n",
       "4       1\n",
       "       ..\n",
       "1054    1\n",
       "1055    2\n",
       "1056    0\n",
       "1057    2\n",
       "1058    0\n",
       "Name: Grade, Length: 1059, dtype: int64"
      ]
     },
     "execution_count": 22,
     "metadata": {},
     "output_type": "execute_result"
    }
   ],
   "source": [
    "Y"
   ]
  },
  {
   "cell_type": "markdown",
   "id": "7ba86463",
   "metadata": {},
   "source": [
    "# Spliting Data"
   ]
  },
  {
   "cell_type": "code",
   "execution_count": 24,
   "id": "3e4f3bb6",
   "metadata": {},
   "outputs": [],
   "source": [
    "from sklearn.model_selection import train_test_split\n",
    "X_train,X_test,Y_train,Y_test = train_test_split(X,Y,test_size = 0.33,random_state=0)"
   ]
  },
  {
   "cell_type": "code",
   "execution_count": 29,
   "id": "289d7127",
   "metadata": {},
   "outputs": [
    {
     "data": {
      "text/html": [
       "<div>\n",
       "<style scoped>\n",
       "    .dataframe tbody tr th:only-of-type {\n",
       "        vertical-align: middle;\n",
       "    }\n",
       "\n",
       "    .dataframe tbody tr th {\n",
       "        vertical-align: top;\n",
       "    }\n",
       "\n",
       "    .dataframe thead th {\n",
       "        text-align: right;\n",
       "    }\n",
       "</style>\n",
       "<table border=\"1\" class=\"dataframe\">\n",
       "  <thead>\n",
       "    <tr style=\"text-align: right;\">\n",
       "      <th></th>\n",
       "      <th>pH</th>\n",
       "      <th>Temprature</th>\n",
       "      <th>Taste</th>\n",
       "      <th>Odor</th>\n",
       "      <th>Fat</th>\n",
       "      <th>Turbidity</th>\n",
       "      <th>Colour</th>\n",
       "    </tr>\n",
       "  </thead>\n",
       "  <tbody>\n",
       "    <tr>\n",
       "      <th>425</th>\n",
       "      <td>6.6</td>\n",
       "      <td>35</td>\n",
       "      <td>0</td>\n",
       "      <td>1</td>\n",
       "      <td>1</td>\n",
       "      <td>1</td>\n",
       "      <td>255</td>\n",
       "    </tr>\n",
       "    <tr>\n",
       "      <th>503</th>\n",
       "      <td>6.8</td>\n",
       "      <td>41</td>\n",
       "      <td>0</td>\n",
       "      <td>0</td>\n",
       "      <td>1</td>\n",
       "      <td>0</td>\n",
       "      <td>255</td>\n",
       "    </tr>\n",
       "    <tr>\n",
       "      <th>258</th>\n",
       "      <td>6.6</td>\n",
       "      <td>38</td>\n",
       "      <td>0</td>\n",
       "      <td>0</td>\n",
       "      <td>1</td>\n",
       "      <td>0</td>\n",
       "      <td>255</td>\n",
       "    </tr>\n",
       "    <tr>\n",
       "      <th>943</th>\n",
       "      <td>9.0</td>\n",
       "      <td>43</td>\n",
       "      <td>1</td>\n",
       "      <td>0</td>\n",
       "      <td>1</td>\n",
       "      <td>1</td>\n",
       "      <td>250</td>\n",
       "    </tr>\n",
       "    <tr>\n",
       "      <th>810</th>\n",
       "      <td>6.5</td>\n",
       "      <td>37</td>\n",
       "      <td>0</td>\n",
       "      <td>0</td>\n",
       "      <td>0</td>\n",
       "      <td>0</td>\n",
       "      <td>245</td>\n",
       "    </tr>\n",
       "    <tr>\n",
       "      <th>...</th>\n",
       "      <td>...</td>\n",
       "      <td>...</td>\n",
       "      <td>...</td>\n",
       "      <td>...</td>\n",
       "      <td>...</td>\n",
       "      <td>...</td>\n",
       "      <td>...</td>\n",
       "    </tr>\n",
       "    <tr>\n",
       "      <th>1033</th>\n",
       "      <td>6.6</td>\n",
       "      <td>38</td>\n",
       "      <td>0</td>\n",
       "      <td>0</td>\n",
       "      <td>0</td>\n",
       "      <td>0</td>\n",
       "      <td>255</td>\n",
       "    </tr>\n",
       "    <tr>\n",
       "      <th>763</th>\n",
       "      <td>5.6</td>\n",
       "      <td>50</td>\n",
       "      <td>0</td>\n",
       "      <td>1</td>\n",
       "      <td>1</td>\n",
       "      <td>1</td>\n",
       "      <td>255</td>\n",
       "    </tr>\n",
       "    <tr>\n",
       "      <th>835</th>\n",
       "      <td>4.7</td>\n",
       "      <td>38</td>\n",
       "      <td>1</td>\n",
       "      <td>0</td>\n",
       "      <td>1</td>\n",
       "      <td>0</td>\n",
       "      <td>255</td>\n",
       "    </tr>\n",
       "    <tr>\n",
       "      <th>559</th>\n",
       "      <td>9.0</td>\n",
       "      <td>43</td>\n",
       "      <td>1</td>\n",
       "      <td>0</td>\n",
       "      <td>1</td>\n",
       "      <td>1</td>\n",
       "      <td>250</td>\n",
       "    </tr>\n",
       "    <tr>\n",
       "      <th>684</th>\n",
       "      <td>6.5</td>\n",
       "      <td>38</td>\n",
       "      <td>1</td>\n",
       "      <td>0</td>\n",
       "      <td>0</td>\n",
       "      <td>0</td>\n",
       "      <td>255</td>\n",
       "    </tr>\n",
       "  </tbody>\n",
       "</table>\n",
       "<p>709 rows × 7 columns</p>\n",
       "</div>"
      ],
      "text/plain": [
       "       pH  Temprature  Taste  Odor  Fat   Turbidity  Colour\n",
       "425   6.6          35      0     1     1          1     255\n",
       "503   6.8          41      0     0     1          0     255\n",
       "258   6.6          38      0     0     1          0     255\n",
       "943   9.0          43      1     0     1          1     250\n",
       "810   6.5          37      0     0     0          0     245\n",
       "...   ...         ...    ...   ...   ...        ...     ...\n",
       "1033  6.6          38      0     0     0          0     255\n",
       "763   5.6          50      0     1     1          1     255\n",
       "835   4.7          38      1     0     1          0     255\n",
       "559   9.0          43      1     0     1          1     250\n",
       "684   6.5          38      1     0     0          0     255\n",
       "\n",
       "[709 rows x 7 columns]"
      ]
     },
     "execution_count": 29,
     "metadata": {},
     "output_type": "execute_result"
    }
   ],
   "source": [
    "X_train"
   ]
  },
  {
   "cell_type": "code",
   "execution_count": 30,
   "id": "9a1cb1fe",
   "metadata": {},
   "outputs": [
    {
     "data": {
      "text/html": [
       "<div>\n",
       "<style scoped>\n",
       "    .dataframe tbody tr th:only-of-type {\n",
       "        vertical-align: middle;\n",
       "    }\n",
       "\n",
       "    .dataframe tbody tr th {\n",
       "        vertical-align: top;\n",
       "    }\n",
       "\n",
       "    .dataframe thead th {\n",
       "        text-align: right;\n",
       "    }\n",
       "</style>\n",
       "<table border=\"1\" class=\"dataframe\">\n",
       "  <thead>\n",
       "    <tr style=\"text-align: right;\">\n",
       "      <th></th>\n",
       "      <th>pH</th>\n",
       "      <th>Temprature</th>\n",
       "      <th>Taste</th>\n",
       "      <th>Odor</th>\n",
       "      <th>Fat</th>\n",
       "      <th>Turbidity</th>\n",
       "      <th>Colour</th>\n",
       "    </tr>\n",
       "  </thead>\n",
       "  <tbody>\n",
       "    <tr>\n",
       "      <th>418</th>\n",
       "      <td>6.6</td>\n",
       "      <td>37</td>\n",
       "      <td>1</td>\n",
       "      <td>1</td>\n",
       "      <td>1</td>\n",
       "      <td>1</td>\n",
       "      <td>255</td>\n",
       "    </tr>\n",
       "    <tr>\n",
       "      <th>202</th>\n",
       "      <td>9.0</td>\n",
       "      <td>43</td>\n",
       "      <td>1</td>\n",
       "      <td>0</td>\n",
       "      <td>1</td>\n",
       "      <td>1</td>\n",
       "      <td>250</td>\n",
       "    </tr>\n",
       "    <tr>\n",
       "      <th>682</th>\n",
       "      <td>6.8</td>\n",
       "      <td>45</td>\n",
       "      <td>0</td>\n",
       "      <td>0</td>\n",
       "      <td>0</td>\n",
       "      <td>1</td>\n",
       "      <td>255</td>\n",
       "    </tr>\n",
       "    <tr>\n",
       "      <th>316</th>\n",
       "      <td>5.6</td>\n",
       "      <td>50</td>\n",
       "      <td>0</td>\n",
       "      <td>1</td>\n",
       "      <td>1</td>\n",
       "      <td>1</td>\n",
       "      <td>255</td>\n",
       "    </tr>\n",
       "    <tr>\n",
       "      <th>267</th>\n",
       "      <td>6.8</td>\n",
       "      <td>45</td>\n",
       "      <td>1</td>\n",
       "      <td>1</td>\n",
       "      <td>1</td>\n",
       "      <td>1</td>\n",
       "      <td>245</td>\n",
       "    </tr>\n",
       "    <tr>\n",
       "      <th>...</th>\n",
       "      <td>...</td>\n",
       "      <td>...</td>\n",
       "      <td>...</td>\n",
       "      <td>...</td>\n",
       "      <td>...</td>\n",
       "      <td>...</td>\n",
       "      <td>...</td>\n",
       "    </tr>\n",
       "    <tr>\n",
       "      <th>10</th>\n",
       "      <td>6.7</td>\n",
       "      <td>45</td>\n",
       "      <td>1</td>\n",
       "      <td>1</td>\n",
       "      <td>1</td>\n",
       "      <td>0</td>\n",
       "      <td>245</td>\n",
       "    </tr>\n",
       "    <tr>\n",
       "      <th>105</th>\n",
       "      <td>6.6</td>\n",
       "      <td>35</td>\n",
       "      <td>0</td>\n",
       "      <td>1</td>\n",
       "      <td>1</td>\n",
       "      <td>1</td>\n",
       "      <td>255</td>\n",
       "    </tr>\n",
       "    <tr>\n",
       "      <th>68</th>\n",
       "      <td>4.7</td>\n",
       "      <td>38</td>\n",
       "      <td>1</td>\n",
       "      <td>0</td>\n",
       "      <td>1</td>\n",
       "      <td>0</td>\n",
       "      <td>255</td>\n",
       "    </tr>\n",
       "    <tr>\n",
       "      <th>90</th>\n",
       "      <td>6.6</td>\n",
       "      <td>50</td>\n",
       "      <td>0</td>\n",
       "      <td>0</td>\n",
       "      <td>0</td>\n",
       "      <td>1</td>\n",
       "      <td>250</td>\n",
       "    </tr>\n",
       "    <tr>\n",
       "      <th>857</th>\n",
       "      <td>6.6</td>\n",
       "      <td>50</td>\n",
       "      <td>0</td>\n",
       "      <td>0</td>\n",
       "      <td>0</td>\n",
       "      <td>1</td>\n",
       "      <td>250</td>\n",
       "    </tr>\n",
       "  </tbody>\n",
       "</table>\n",
       "<p>350 rows × 7 columns</p>\n",
       "</div>"
      ],
      "text/plain": [
       "      pH  Temprature  Taste  Odor  Fat   Turbidity  Colour\n",
       "418  6.6          37      1     1     1          1     255\n",
       "202  9.0          43      1     0     1          1     250\n",
       "682  6.8          45      0     0     0          1     255\n",
       "316  5.6          50      0     1     1          1     255\n",
       "267  6.8          45      1     1     1          1     245\n",
       "..   ...         ...    ...   ...   ...        ...     ...\n",
       "10   6.7          45      1     1     1          0     245\n",
       "105  6.6          35      0     1     1          1     255\n",
       "68   4.7          38      1     0     1          0     255\n",
       "90   6.6          50      0     0     0          1     250\n",
       "857  6.6          50      0     0     0          1     250\n",
       "\n",
       "[350 rows x 7 columns]"
      ]
     },
     "execution_count": 30,
     "metadata": {},
     "output_type": "execute_result"
    }
   ],
   "source": [
    "X_test"
   ]
  },
  {
   "cell_type": "markdown",
   "id": "491e1d72",
   "metadata": {},
   "source": [
    "# Data Scaling"
   ]
  },
  {
   "cell_type": "code",
   "execution_count": 28,
   "id": "e21b1b9f",
   "metadata": {},
   "outputs": [],
   "source": [
    "from sklearn.preprocessing import StandardScaler\n",
    "sc = StandardScaler()"
   ]
  },
  {
   "cell_type": "code",
   "execution_count": 31,
   "id": "92e95d74",
   "metadata": {},
   "outputs": [],
   "source": [
    "X_train = sc.fit_transform(X_train)\n",
    "X_test = sc.fit_transform(X_test)"
   ]
  },
  {
   "cell_type": "code",
   "execution_count": 32,
   "id": "b49b51cb",
   "metadata": {},
   "outputs": [
    {
     "data": {
      "text/plain": [
       "array([[-0.01713411, -0.89411949, -1.0777687 , ...,  0.72664795,\n",
       "         1.04767988,  0.72435835],\n",
       "       [ 0.12170116, -0.3147464 , -1.0777687 , ...,  0.72664795,\n",
       "        -0.95449003,  0.72435835],\n",
       "       [-0.01713411, -0.60443295, -1.0777687 , ...,  0.72664795,\n",
       "        -0.95449003,  0.72435835],\n",
       "       ...,\n",
       "       [-1.33606925, -0.60443295,  0.92784287, ...,  0.72664795,\n",
       "        -0.95449003,  0.72435835],\n",
       "       [ 1.64888921, -0.12162204,  0.92784287, ...,  0.72664795,\n",
       "         1.04767988, -0.44231605],\n",
       "       [-0.08655175, -0.60443295,  0.92784287, ..., -1.37618224,\n",
       "        -0.95449003,  0.72435835]])"
      ]
     },
     "execution_count": 32,
     "metadata": {},
     "output_type": "execute_result"
    }
   ],
   "source": [
    "X_train"
   ]
  },
  {
   "cell_type": "code",
   "execution_count": 33,
   "id": "9f1da291",
   "metadata": {},
   "outputs": [
    {
     "data": {
      "text/plain": [
       "array([[-0.03138815, -0.75055969,  0.87617165, ...,  0.64575851,\n",
       "         0.96076892,  0.7532854 ],\n",
       "       [ 1.79958718, -0.12159906,  0.87617165, ...,  0.64575851,\n",
       "         0.96076892, -0.39802416],\n",
       "       [ 0.12119313,  0.08805449, -1.14132887, ..., -1.54856652,\n",
       "         0.96076892,  0.7532854 ],\n",
       "       ...,\n",
       "       [-1.48091029, -0.64573292,  0.87617165, ...,  0.64575851,\n",
       "        -1.040833  ,  0.7532854 ],\n",
       "       [-0.03138815,  0.61218835, -1.14132887, ..., -1.54856652,\n",
       "         0.96076892, -0.39802416],\n",
       "       [-0.03138815,  0.61218835, -1.14132887, ..., -1.54856652,\n",
       "         0.96076892, -0.39802416]])"
      ]
     },
     "execution_count": 33,
     "metadata": {},
     "output_type": "execute_result"
    }
   ],
   "source": [
    "X_test"
   ]
  },
  {
   "cell_type": "markdown",
   "id": "a698ab7b",
   "metadata": {},
   "source": [
    "# Model Training"
   ]
  },
  {
   "cell_type": "markdown",
   "id": "4ce6bd10",
   "metadata": {},
   "source": [
    "# Logistic Regression"
   ]
  },
  {
   "cell_type": "code",
   "execution_count": 36,
   "id": "e121f211",
   "metadata": {},
   "outputs": [],
   "source": [
    "from sklearn.linear_model import LogisticRegression\n",
    "log_reg = LogisticRegression(random_state = 0)"
   ]
  },
  {
   "cell_type": "code",
   "execution_count": 54,
   "id": "43b8b571",
   "metadata": {},
   "outputs": [],
   "source": [
    "log_reg.fit(X_train,Y_train)\n",
    "y_predLog_Reg = log_reg.predict(X_test)"
   ]
  },
  {
   "cell_type": "code",
   "execution_count": 55,
   "id": "942f5d9f",
   "metadata": {},
   "outputs": [
    {
     "data": {
      "text/plain": [
       "array([2, 0, 0, 0, 0, 1, 0, 0, 2, 1, 0, 0, 1, 2, 2, 1, 2, 2, 2, 0, 0, 2,\n",
       "       1, 0, 2, 0, 0, 0, 0, 1, 2, 0, 0, 1, 0, 0, 0, 1, 2, 0, 2, 2, 2, 0,\n",
       "       1, 0, 0, 0, 1, 0, 0, 1, 1, 1, 0, 1, 1, 0, 1, 1, 2, 0, 2, 2, 0, 1,\n",
       "       0, 1, 1, 0, 0, 1, 1, 0, 1, 2, 2, 0, 2, 1, 0, 1, 1, 2, 1, 1, 2, 0,\n",
       "       1, 2, 2, 2, 1, 2, 2, 1, 0, 0, 1, 1, 2, 1, 0, 2, 2, 2, 2, 2, 0, 0,\n",
       "       2, 2, 2, 2, 0, 1, 0, 2, 1, 2, 1, 1, 0, 2, 2, 0, 0, 0, 1, 2, 0, 1,\n",
       "       0, 1, 2, 2, 1, 1, 1, 0, 1, 2, 0, 0, 1, 2, 0, 0, 0, 2, 0, 0, 1, 0,\n",
       "       2, 0, 1, 1, 1, 1, 0, 1, 0, 1, 1, 2, 2, 0, 1, 1, 0, 0, 2, 2, 2, 0,\n",
       "       0, 2, 2, 1, 1, 0, 0, 0, 0, 2, 1, 1, 0, 0, 2, 0, 0, 0, 1, 2, 1, 1,\n",
       "       0, 1, 0, 0, 1, 0, 1, 1, 0, 1, 1, 0, 0, 0, 1, 1, 1, 1, 0, 1, 0, 0,\n",
       "       2, 2, 1, 1, 1, 0, 0, 2, 2, 2, 2, 0, 2, 2, 2, 1, 0, 0, 0, 2, 2, 0,\n",
       "       0, 1, 2, 0, 2, 1, 0, 0, 1, 0, 0, 0, 0, 0, 2, 0, 0, 0, 2, 2, 1, 0,\n",
       "       0, 1, 0, 1, 1, 1, 2, 1, 0, 0, 0, 2, 2, 0, 0, 1, 1, 2, 1, 0, 0, 1,\n",
       "       2, 1, 1, 1, 0, 1, 0, 0, 1, 0, 0, 0, 2, 0, 1, 1, 0, 2, 1, 1, 1, 0,\n",
       "       1, 1, 1, 0, 0, 0, 2, 0, 0, 0, 1, 1, 2, 2, 0, 1, 1, 2, 2, 0, 0, 0,\n",
       "       2, 0, 1, 0, 1, 0, 2, 1, 0, 2, 1, 0, 0, 0, 2, 2, 2, 0, 0, 0],\n",
       "      dtype=int64)"
      ]
     },
     "execution_count": 55,
     "metadata": {},
     "output_type": "execute_result"
    }
   ],
   "source": [
    "y_predLog_Reg"
   ]
  },
  {
   "cell_type": "code",
   "execution_count": 41,
   "id": "1cdee5c6",
   "metadata": {},
   "outputs": [
    {
     "data": {
      "text/plain": [
       "array([2, 0, 1, 0, 2, 1, 0, 2, 2, 1, 0, 2, 1, 1, 2, 0, 2, 2, 2, 0, 2, 0,\n",
       "       1, 2, 2, 0, 2, 2, 0, 1, 2, 0, 0, 1, 2, 2, 0, 2, 2, 0, 2, 1, 2, 0,\n",
       "       1, 0, 2, 0, 1, 0, 2, 1, 1, 1, 0, 1, 1, 0, 1, 0, 1, 0, 1, 2, 0, 1,\n",
       "       0, 1, 1, 2, 2, 1, 1, 2, 1, 1, 1, 0, 2, 1, 0, 1, 1, 0, 1, 1, 2, 0,\n",
       "       0, 0, 1, 2, 1, 0, 2, 1, 0, 2, 1, 1, 2, 1, 0, 1, 2, 2, 2, 2, 0, 0,\n",
       "       2, 2, 2, 2, 0, 1, 0, 2, 1, 2, 1, 1, 0, 2, 2, 0, 0, 0, 1, 2, 0, 1,\n",
       "       0, 1, 2, 1, 1, 1, 1, 0, 1, 2, 0, 0, 1, 2, 0, 0, 0, 2, 0, 1, 1, 0,\n",
       "       2, 2, 1, 1, 1, 1, 1, 1, 0, 1, 1, 2, 2, 0, 2, 1, 0, 0, 1, 2, 2, 0,\n",
       "       2, 2, 2, 1, 1, 0, 0, 0, 0, 2, 1, 2, 0, 0, 2, 0, 0, 0, 1, 0, 1, 1,\n",
       "       2, 1, 0, 2, 1, 0, 1, 1, 0, 1, 1, 0, 2, 1, 1, 1, 1, 1, 2, 1, 2, 0,\n",
       "       2, 2, 1, 2, 1, 0, 0, 1, 2, 2, 2, 0, 0, 2, 0, 1, 0, 0, 0, 2, 0, 2,\n",
       "       0, 1, 2, 0, 1, 1, 0, 0, 1, 0, 2, 0, 0, 0, 2, 0, 2, 0, 0, 1, 1, 0,\n",
       "       1, 1, 0, 1, 1, 1, 1, 1, 0, 0, 0, 2, 1, 0, 0, 1, 1, 0, 0, 2, 0, 1,\n",
       "       2, 1, 1, 1, 0, 1, 0, 0, 0, 0, 0, 0, 0, 0, 1, 1, 0, 1, 1, 1, 1, 0,\n",
       "       1, 1, 1, 0, 0, 0, 2, 0, 2, 0, 1, 1, 2, 0, 0, 1, 1, 2, 0, 2, 0, 0,\n",
       "       2, 0, 1, 0, 1, 2, 1, 1, 0, 0, 1, 2, 0, 0, 2, 1, 2, 0, 0, 0],\n",
       "      dtype=int64)"
      ]
     },
     "execution_count": 41,
     "metadata": {},
     "output_type": "execute_result"
    }
   ],
   "source": [
    "Y_test.values"
   ]
  },
  {
   "cell_type": "code",
   "execution_count": 98,
   "id": "7e7af7e3",
   "metadata": {},
   "outputs": [],
   "source": [
    "from sklearn.metrics import accuracy_score,confusion_matrix"
   ]
  },
  {
   "cell_type": "code",
   "execution_count": 99,
   "id": "f38e40a9",
   "metadata": {},
   "outputs": [
    {
     "data": {
      "text/plain": [
       "0.7828571428571428"
      ]
     },
     "execution_count": 99,
     "metadata": {},
     "output_type": "execute_result"
    }
   ],
   "source": [
    "accuracy_score(y_predLog_Reg,Y_test)"
   ]
  },
  {
   "cell_type": "code",
   "execution_count": 100,
   "id": "401f11d2",
   "metadata": {},
   "outputs": [
    {
     "data": {
      "text/plain": [
       "array([[111,   5,  30],\n",
       "       [  5, 103,   4],\n",
       "       [ 14,  18,  60]], dtype=int64)"
      ]
     },
     "execution_count": 100,
     "metadata": {},
     "output_type": "execute_result"
    }
   ],
   "source": [
    "confusion_matrix(y_predLog_Reg,Y_test)"
   ]
  },
  {
   "cell_type": "markdown",
   "id": "1d22d7d2",
   "metadata": {},
   "source": [
    "# Decision Tree"
   ]
  },
  {
   "cell_type": "code",
   "execution_count": 101,
   "id": "0ba6398a",
   "metadata": {},
   "outputs": [],
   "source": [
    "from sklearn.tree import DecisionTreeClassifier\n",
    "dtc = DecisionTreeClassifier(criterion = 'entropy') # Also you can try 'gini' parameter according to 'entropy'."
   ]
  },
  {
   "cell_type": "code",
   "execution_count": 102,
   "id": "02c689bb",
   "metadata": {},
   "outputs": [],
   "source": [
    "dtc.fit(X_train,Y_train)\n",
    "y_predDTC = dtc.predict(X_test)"
   ]
  },
  {
   "cell_type": "code",
   "execution_count": 103,
   "id": "eba21ede",
   "metadata": {},
   "outputs": [
    {
     "data": {
      "text/plain": [
       "array([2, 0, 1, 0, 2, 1, 0, 2, 2, 1, 0, 2, 1, 1, 2, 1, 2, 2, 2, 0, 2, 0,\n",
       "       1, 2, 2, 0, 2, 2, 0, 1, 2, 0, 0, 1, 2, 2, 0, 1, 2, 0, 2, 1, 2, 0,\n",
       "       1, 0, 2, 0, 1, 0, 2, 1, 1, 1, 0, 1, 1, 0, 1, 0, 1, 0, 1, 2, 0, 1,\n",
       "       0, 1, 1, 2, 2, 1, 1, 2, 1, 1, 1, 0, 2, 1, 0, 1, 1, 0, 1, 1, 2, 0,\n",
       "       2, 0, 1, 2, 1, 0, 2, 1, 0, 2, 1, 1, 2, 1, 0, 1, 2, 2, 2, 2, 0, 0,\n",
       "       2, 2, 2, 2, 0, 1, 0, 2, 1, 2, 1, 1, 0, 2, 2, 0, 0, 0, 1, 2, 0, 1,\n",
       "       0, 1, 2, 1, 1, 1, 1, 0, 1, 2, 0, 0, 1, 2, 0, 0, 0, 2, 0, 1, 1, 0,\n",
       "       2, 2, 1, 1, 1, 1, 1, 1, 0, 1, 1, 2, 2, 0, 2, 1, 0, 0, 1, 2, 2, 0,\n",
       "       2, 2, 2, 1, 1, 0, 0, 0, 0, 2, 1, 2, 0, 0, 2, 0, 0, 0, 1, 0, 1, 1,\n",
       "       2, 1, 0, 2, 1, 0, 1, 1, 0, 1, 1, 0, 2, 1, 1, 1, 1, 1, 2, 1, 2, 0,\n",
       "       2, 2, 1, 2, 1, 0, 0, 1, 2, 2, 2, 0, 0, 2, 0, 1, 0, 0, 0, 2, 0, 2,\n",
       "       0, 1, 2, 0, 1, 1, 0, 0, 1, 0, 2, 0, 0, 0, 2, 0, 2, 0, 0, 1, 1, 0,\n",
       "       1, 1, 0, 1, 1, 1, 1, 1, 0, 0, 0, 2, 1, 0, 0, 1, 1, 0, 2, 2, 0, 1,\n",
       "       2, 1, 1, 1, 0, 1, 0, 0, 0, 0, 0, 0, 0, 0, 1, 1, 0, 1, 1, 1, 1, 0,\n",
       "       1, 1, 1, 0, 0, 0, 2, 0, 2, 0, 1, 1, 2, 0, 0, 1, 1, 2, 0, 2, 0, 0,\n",
       "       2, 0, 1, 0, 1, 2, 1, 1, 0, 0, 1, 2, 0, 0, 2, 1, 2, 0, 0, 0],\n",
       "      dtype=int64)"
      ]
     },
     "execution_count": 103,
     "metadata": {},
     "output_type": "execute_result"
    }
   ],
   "source": [
    "y_predDTC"
   ]
  },
  {
   "cell_type": "code",
   "execution_count": 104,
   "id": "c2694c04",
   "metadata": {},
   "outputs": [
    {
     "data": {
      "text/plain": [
       "array([2, 0, 1, 0, 2, 1, 0, 2, 2, 1, 0, 2, 1, 1, 2, 0, 2, 2, 2, 0, 2, 0,\n",
       "       1, 2, 2, 0, 2, 2, 0, 1, 2, 0, 0, 1, 2, 2, 0, 2, 2, 0, 2, 1, 2, 0,\n",
       "       1, 0, 2, 0, 1, 0, 2, 1, 1, 1, 0, 1, 1, 0, 1, 0, 1, 0, 1, 2, 0, 1,\n",
       "       0, 1, 1, 2, 2, 1, 1, 2, 1, 1, 1, 0, 2, 1, 0, 1, 1, 0, 1, 1, 2, 0,\n",
       "       0, 0, 1, 2, 1, 0, 2, 1, 0, 2, 1, 1, 2, 1, 0, 1, 2, 2, 2, 2, 0, 0,\n",
       "       2, 2, 2, 2, 0, 1, 0, 2, 1, 2, 1, 1, 0, 2, 2, 0, 0, 0, 1, 2, 0, 1,\n",
       "       0, 1, 2, 1, 1, 1, 1, 0, 1, 2, 0, 0, 1, 2, 0, 0, 0, 2, 0, 1, 1, 0,\n",
       "       2, 2, 1, 1, 1, 1, 1, 1, 0, 1, 1, 2, 2, 0, 2, 1, 0, 0, 1, 2, 2, 0,\n",
       "       2, 2, 2, 1, 1, 0, 0, 0, 0, 2, 1, 2, 0, 0, 2, 0, 0, 0, 1, 0, 1, 1,\n",
       "       2, 1, 0, 2, 1, 0, 1, 1, 0, 1, 1, 0, 2, 1, 1, 1, 1, 1, 2, 1, 2, 0,\n",
       "       2, 2, 1, 2, 1, 0, 0, 1, 2, 2, 2, 0, 0, 2, 0, 1, 0, 0, 0, 2, 0, 2,\n",
       "       0, 1, 2, 0, 1, 1, 0, 0, 1, 0, 2, 0, 0, 0, 2, 0, 2, 0, 0, 1, 1, 0,\n",
       "       1, 1, 0, 1, 1, 1, 1, 1, 0, 0, 0, 2, 1, 0, 0, 1, 1, 0, 0, 2, 0, 1,\n",
       "       2, 1, 1, 1, 0, 1, 0, 0, 0, 0, 0, 0, 0, 0, 1, 1, 0, 1, 1, 1, 1, 0,\n",
       "       1, 1, 1, 0, 0, 0, 2, 0, 2, 0, 1, 1, 2, 0, 0, 1, 1, 2, 0, 2, 0, 0,\n",
       "       2, 0, 1, 0, 1, 2, 1, 1, 0, 0, 1, 2, 0, 0, 2, 1, 2, 0, 0, 0],\n",
       "      dtype=int64)"
      ]
     },
     "execution_count": 104,
     "metadata": {},
     "output_type": "execute_result"
    }
   ],
   "source": [
    "Y_test.values"
   ]
  },
  {
   "cell_type": "code",
   "execution_count": 105,
   "id": "419fea21",
   "metadata": {},
   "outputs": [
    {
     "data": {
      "text/plain": [
       "0.9885714285714285"
      ]
     },
     "execution_count": 105,
     "metadata": {},
     "output_type": "execute_result"
    }
   ],
   "source": [
    "accuracy_score(y_predDTC,Y_test)"
   ]
  },
  {
   "cell_type": "code",
   "execution_count": 106,
   "id": "4ccbb637",
   "metadata": {},
   "outputs": [
    {
     "data": {
      "text/plain": [
       "array([[127,   0,   0],\n",
       "       [  1, 126,   1],\n",
       "       [  2,   0,  93]], dtype=int64)"
      ]
     },
     "execution_count": 106,
     "metadata": {},
     "output_type": "execute_result"
    }
   ],
   "source": [
    "confusion_matrix(y_predDTC,Y_test)"
   ]
  },
  {
   "cell_type": "markdown",
   "id": "7dd60c7d",
   "metadata": {},
   "source": [
    "# SVC (Support Vector Classifier)"
   ]
  },
  {
   "cell_type": "code",
   "execution_count": 66,
   "id": "99e27bf1",
   "metadata": {},
   "outputs": [],
   "source": [
    "from sklearn.svm import SVC\n",
    "svc = SVC(kernel='rbf') # The kernel can be polynomial etc."
   ]
  },
  {
   "cell_type": "code",
   "execution_count": 67,
   "id": "167409d6",
   "metadata": {},
   "outputs": [],
   "source": [
    "svc.fit(X_train,Y_train)\n",
    "y_predSVC = svc.predict(X_test)"
   ]
  },
  {
   "cell_type": "code",
   "execution_count": 68,
   "id": "88b501a1",
   "metadata": {},
   "outputs": [
    {
     "data": {
      "text/plain": [
       "array([2, 0, 1, 0, 2, 1, 0, 2, 2, 1, 0, 2, 1, 2, 2, 1, 2, 2, 2, 0, 2, 0,\n",
       "       1, 2, 2, 0, 2, 2, 0, 1, 2, 0, 0, 1, 2, 2, 0, 1, 2, 0, 2, 2, 2, 0,\n",
       "       1, 0, 2, 0, 1, 0, 2, 1, 1, 1, 0, 1, 1, 0, 1, 0, 2, 0, 2, 2, 0, 1,\n",
       "       0, 1, 1, 2, 2, 1, 1, 2, 1, 2, 2, 0, 2, 1, 0, 1, 1, 0, 1, 1, 2, 2,\n",
       "       2, 0, 2, 2, 1, 0, 2, 1, 0, 2, 1, 1, 2, 1, 0, 2, 2, 2, 2, 2, 0, 0,\n",
       "       2, 2, 2, 2, 0, 1, 0, 2, 1, 2, 1, 1, 0, 2, 2, 0, 0, 0, 1, 2, 0, 1,\n",
       "       0, 1, 2, 2, 1, 1, 1, 0, 1, 2, 0, 0, 1, 2, 0, 0, 0, 2, 0, 1, 1, 0,\n",
       "       2, 2, 1, 1, 1, 1, 1, 1, 0, 1, 1, 2, 2, 0, 2, 1, 0, 0, 2, 2, 2, 0,\n",
       "       2, 2, 2, 1, 1, 0, 0, 0, 0, 2, 1, 2, 0, 0, 2, 0, 0, 0, 1, 0, 1, 1,\n",
       "       2, 1, 0, 2, 1, 2, 1, 1, 0, 1, 1, 0, 2, 1, 1, 1, 1, 1, 2, 1, 2, 0,\n",
       "       2, 2, 1, 2, 1, 0, 0, 2, 2, 2, 2, 0, 0, 2, 0, 1, 0, 0, 0, 2, 0, 2,\n",
       "       0, 1, 2, 0, 2, 1, 0, 0, 1, 0, 2, 0, 0, 0, 2, 0, 2, 0, 0, 2, 1, 0,\n",
       "       1, 1, 0, 1, 1, 1, 2, 1, 0, 0, 0, 2, 2, 0, 0, 1, 1, 0, 2, 2, 0, 1,\n",
       "       2, 1, 1, 1, 0, 1, 0, 0, 0, 0, 0, 0, 0, 0, 1, 1, 0, 2, 1, 1, 1, 0,\n",
       "       1, 1, 1, 0, 0, 0, 2, 0, 2, 0, 1, 1, 2, 0, 0, 1, 1, 2, 0, 2, 0, 0,\n",
       "       2, 0, 1, 0, 1, 2, 2, 1, 0, 0, 1, 2, 0, 2, 2, 2, 2, 0, 0, 0],\n",
       "      dtype=int64)"
      ]
     },
     "execution_count": 68,
     "metadata": {},
     "output_type": "execute_result"
    }
   ],
   "source": [
    "y_predSVC"
   ]
  },
  {
   "cell_type": "code",
   "execution_count": 69,
   "id": "118d40ca",
   "metadata": {},
   "outputs": [
    {
     "data": {
      "text/plain": [
       "array([2, 0, 1, 0, 2, 1, 0, 2, 2, 1, 0, 2, 1, 1, 2, 0, 2, 2, 2, 0, 2, 0,\n",
       "       1, 2, 2, 0, 2, 2, 0, 1, 2, 0, 0, 1, 2, 2, 0, 2, 2, 0, 2, 1, 2, 0,\n",
       "       1, 0, 2, 0, 1, 0, 2, 1, 1, 1, 0, 1, 1, 0, 1, 0, 1, 0, 1, 2, 0, 1,\n",
       "       0, 1, 1, 2, 2, 1, 1, 2, 1, 1, 1, 0, 2, 1, 0, 1, 1, 0, 1, 1, 2, 0,\n",
       "       0, 0, 1, 2, 1, 0, 2, 1, 0, 2, 1, 1, 2, 1, 0, 1, 2, 2, 2, 2, 0, 0,\n",
       "       2, 2, 2, 2, 0, 1, 0, 2, 1, 2, 1, 1, 0, 2, 2, 0, 0, 0, 1, 2, 0, 1,\n",
       "       0, 1, 2, 1, 1, 1, 1, 0, 1, 2, 0, 0, 1, 2, 0, 0, 0, 2, 0, 1, 1, 0,\n",
       "       2, 2, 1, 1, 1, 1, 1, 1, 0, 1, 1, 2, 2, 0, 2, 1, 0, 0, 1, 2, 2, 0,\n",
       "       2, 2, 2, 1, 1, 0, 0, 0, 0, 2, 1, 2, 0, 0, 2, 0, 0, 0, 1, 0, 1, 1,\n",
       "       2, 1, 0, 2, 1, 0, 1, 1, 0, 1, 1, 0, 2, 1, 1, 1, 1, 1, 2, 1, 2, 0,\n",
       "       2, 2, 1, 2, 1, 0, 0, 1, 2, 2, 2, 0, 0, 2, 0, 1, 0, 0, 0, 2, 0, 2,\n",
       "       0, 1, 2, 0, 1, 1, 0, 0, 1, 0, 2, 0, 0, 0, 2, 0, 2, 0, 0, 1, 1, 0,\n",
       "       1, 1, 0, 1, 1, 1, 1, 1, 0, 0, 0, 2, 1, 0, 0, 1, 1, 0, 0, 2, 0, 1,\n",
       "       2, 1, 1, 1, 0, 1, 0, 0, 0, 0, 0, 0, 0, 0, 1, 1, 0, 1, 1, 1, 1, 0,\n",
       "       1, 1, 1, 0, 0, 0, 2, 0, 2, 0, 1, 1, 2, 0, 0, 1, 1, 2, 0, 2, 0, 0,\n",
       "       2, 0, 1, 0, 1, 2, 1, 1, 0, 0, 1, 2, 0, 0, 2, 1, 2, 0, 0, 0],\n",
       "      dtype=int64)"
      ]
     },
     "execution_count": 69,
     "metadata": {},
     "output_type": "execute_result"
    }
   ],
   "source": [
    "Y_test.values"
   ]
  },
  {
   "cell_type": "code",
   "execution_count": 70,
   "id": "2524ce16",
   "metadata": {},
   "outputs": [
    {
     "data": {
      "text/plain": [
       "0.9285714285714286"
      ]
     },
     "execution_count": 70,
     "metadata": {},
     "output_type": "execute_result"
    }
   ],
   "source": [
    "accuracy_score(y_predSVC,Y_test)"
   ]
  },
  {
   "cell_type": "code",
   "execution_count": 71,
   "id": "040a6983",
   "metadata": {},
   "outputs": [
    {
     "data": {
      "text/plain": [
       "array([[124,   0,   0],\n",
       "       [  1, 108,   1],\n",
       "       [  5,  18,  93]], dtype=int64)"
      ]
     },
     "execution_count": 71,
     "metadata": {},
     "output_type": "execute_result"
    }
   ],
   "source": [
    "confusion_matrix(y_predSVC,Y_test)"
   ]
  },
  {
   "cell_type": "markdown",
   "id": "2ab51de5",
   "metadata": {},
   "source": [
    "# KNN (K-Nearest Neighborhood)"
   ]
  },
  {
   "cell_type": "code",
   "execution_count": 109,
   "id": "c79cca37",
   "metadata": {},
   "outputs": [],
   "source": [
    "from sklearn.neighbors import KNeighborsClassifier\n",
    "knn = KNeighborsClassifier(n_neighbors = 5,metric = 'minkowski')\n",
    "# Minkowski is a kind of distance measurement formula.\n",
    "# n_neighbors = Number of neighbors (You can change it.)"
   ]
  },
  {
   "cell_type": "code",
   "execution_count": 111,
   "id": "b2d30052",
   "metadata": {},
   "outputs": [],
   "source": [
    "knn.fit(X_train,Y_train)\n",
    "y_predKNN = knn.predict(X_test)"
   ]
  },
  {
   "cell_type": "code",
   "execution_count": 112,
   "id": "e74c94bf",
   "metadata": {},
   "outputs": [
    {
     "data": {
      "text/plain": [
       "array([2, 0, 1, 0, 2, 1, 0, 2, 2, 1, 0, 2, 1, 1, 2, 1, 2, 2, 2, 0, 2, 0,\n",
       "       1, 2, 2, 0, 2, 2, 0, 1, 2, 0, 0, 1, 2, 2, 0, 1, 2, 0, 2, 1, 2, 0,\n",
       "       1, 0, 2, 0, 1, 0, 2, 1, 1, 1, 0, 1, 1, 0, 1, 0, 1, 0, 1, 2, 0, 1,\n",
       "       0, 1, 1, 2, 2, 1, 1, 2, 1, 1, 1, 0, 2, 1, 0, 0, 1, 0, 1, 1, 2, 0,\n",
       "       2, 0, 1, 2, 1, 0, 2, 1, 0, 2, 1, 1, 2, 1, 0, 1, 2, 2, 2, 2, 0, 0,\n",
       "       2, 2, 2, 2, 0, 1, 0, 2, 1, 2, 1, 1, 0, 2, 2, 0, 0, 0, 1, 2, 0, 1,\n",
       "       0, 1, 2, 1, 1, 1, 1, 0, 1, 2, 0, 0, 1, 2, 0, 0, 0, 2, 0, 1, 1, 0,\n",
       "       2, 2, 1, 1, 1, 1, 1, 1, 0, 1, 1, 2, 2, 0, 2, 1, 0, 0, 1, 2, 2, 0,\n",
       "       2, 2, 2, 1, 1, 0, 0, 0, 0, 2, 1, 2, 0, 0, 2, 0, 0, 0, 1, 0, 1, 1,\n",
       "       2, 1, 0, 2, 1, 0, 1, 1, 0, 1, 1, 0, 2, 1, 1, 1, 1, 1, 2, 1, 2, 0,\n",
       "       2, 2, 1, 2, 1, 0, 0, 1, 2, 2, 2, 0, 0, 2, 0, 1, 0, 0, 0, 2, 0, 2,\n",
       "       0, 1, 2, 0, 1, 1, 0, 0, 1, 0, 2, 0, 0, 0, 2, 0, 2, 0, 0, 1, 1, 0,\n",
       "       1, 1, 0, 1, 1, 1, 1, 1, 0, 0, 0, 2, 1, 0, 0, 1, 1, 0, 2, 2, 0, 1,\n",
       "       2, 1, 1, 1, 0, 1, 0, 0, 0, 0, 0, 0, 0, 0, 1, 1, 0, 1, 1, 1, 1, 0,\n",
       "       1, 1, 1, 0, 0, 0, 2, 0, 2, 0, 1, 1, 2, 0, 0, 1, 1, 2, 0, 2, 0, 0,\n",
       "       2, 0, 1, 0, 1, 2, 1, 1, 0, 0, 1, 2, 0, 0, 2, 1, 2, 0, 0, 0],\n",
       "      dtype=int64)"
      ]
     },
     "execution_count": 112,
     "metadata": {},
     "output_type": "execute_result"
    }
   ],
   "source": [
    "y_predKNN"
   ]
  },
  {
   "cell_type": "code",
   "execution_count": 114,
   "id": "d00aa638",
   "metadata": {},
   "outputs": [
    {
     "data": {
      "text/plain": [
       "array([2, 0, 1, 0, 2, 1, 0, 2, 2, 1, 0, 2, 1, 1, 2, 0, 2, 2, 2, 0, 2, 0,\n",
       "       1, 2, 2, 0, 2, 2, 0, 1, 2, 0, 0, 1, 2, 2, 0, 2, 2, 0, 2, 1, 2, 0,\n",
       "       1, 0, 2, 0, 1, 0, 2, 1, 1, 1, 0, 1, 1, 0, 1, 0, 1, 0, 1, 2, 0, 1,\n",
       "       0, 1, 1, 2, 2, 1, 1, 2, 1, 1, 1, 0, 2, 1, 0, 1, 1, 0, 1, 1, 2, 0,\n",
       "       0, 0, 1, 2, 1, 0, 2, 1, 0, 2, 1, 1, 2, 1, 0, 1, 2, 2, 2, 2, 0, 0,\n",
       "       2, 2, 2, 2, 0, 1, 0, 2, 1, 2, 1, 1, 0, 2, 2, 0, 0, 0, 1, 2, 0, 1,\n",
       "       0, 1, 2, 1, 1, 1, 1, 0, 1, 2, 0, 0, 1, 2, 0, 0, 0, 2, 0, 1, 1, 0,\n",
       "       2, 2, 1, 1, 1, 1, 1, 1, 0, 1, 1, 2, 2, 0, 2, 1, 0, 0, 1, 2, 2, 0,\n",
       "       2, 2, 2, 1, 1, 0, 0, 0, 0, 2, 1, 2, 0, 0, 2, 0, 0, 0, 1, 0, 1, 1,\n",
       "       2, 1, 0, 2, 1, 0, 1, 1, 0, 1, 1, 0, 2, 1, 1, 1, 1, 1, 2, 1, 2, 0,\n",
       "       2, 2, 1, 2, 1, 0, 0, 1, 2, 2, 2, 0, 0, 2, 0, 1, 0, 0, 0, 2, 0, 2,\n",
       "       0, 1, 2, 0, 1, 1, 0, 0, 1, 0, 2, 0, 0, 0, 2, 0, 2, 0, 0, 1, 1, 0,\n",
       "       1, 1, 0, 1, 1, 1, 1, 1, 0, 0, 0, 2, 1, 0, 0, 1, 1, 0, 0, 2, 0, 1,\n",
       "       2, 1, 1, 1, 0, 1, 0, 0, 0, 0, 0, 0, 0, 0, 1, 1, 0, 1, 1, 1, 1, 0,\n",
       "       1, 1, 1, 0, 0, 0, 2, 0, 2, 0, 1, 1, 2, 0, 0, 1, 1, 2, 0, 2, 0, 0,\n",
       "       2, 0, 1, 0, 1, 2, 1, 1, 0, 0, 1, 2, 0, 0, 2, 1, 2, 0, 0, 0],\n",
       "      dtype=int64)"
      ]
     },
     "execution_count": 114,
     "metadata": {},
     "output_type": "execute_result"
    }
   ],
   "source": [
    "Y_test.values"
   ]
  },
  {
   "cell_type": "code",
   "execution_count": 117,
   "id": "0268804c",
   "metadata": {},
   "outputs": [
    {
     "data": {
      "text/plain": [
       "0.9857142857142858"
      ]
     },
     "execution_count": 117,
     "metadata": {},
     "output_type": "execute_result"
    }
   ],
   "source": [
    "accuracy_score(y_predKNN,Y_test)"
   ]
  },
  {
   "cell_type": "code",
   "execution_count": 118,
   "id": "a82650d7",
   "metadata": {},
   "outputs": [
    {
     "data": {
      "text/plain": [
       "array([[127,   1,   0],\n",
       "       [  1, 125,   1],\n",
       "       [  2,   0,  93]], dtype=int64)"
      ]
     },
     "execution_count": 118,
     "metadata": {},
     "output_type": "execute_result"
    }
   ],
   "source": [
    "confusion_matrix(y_predKNN,Y_test)"
   ]
  },
  {
   "cell_type": "markdown",
   "id": "49da01a0",
   "metadata": {},
   "source": [
    "# Random Forest Classifier"
   ]
  },
  {
   "cell_type": "code",
   "execution_count": 122,
   "id": "081ac7f1",
   "metadata": {},
   "outputs": [],
   "source": [
    "from sklearn.ensemble import RandomForestClassifier\n",
    "rfc = RandomForestClassifier(n_estimators = 10,criterion='entropy')"
   ]
  },
  {
   "cell_type": "code",
   "execution_count": 123,
   "id": "82318e8f",
   "metadata": {},
   "outputs": [],
   "source": [
    "rfc.fit(X_train,Y_train)\n",
    "y_predRFC = rfc.predict(X_test)"
   ]
  },
  {
   "cell_type": "code",
   "execution_count": 124,
   "id": "46d0dd4c",
   "metadata": {},
   "outputs": [
    {
     "data": {
      "text/plain": [
       "array([2, 0, 1, 0, 2, 1, 0, 2, 2, 1, 0, 2, 1, 1, 2, 1, 2, 2, 2, 0, 2, 0,\n",
       "       1, 2, 2, 0, 2, 2, 0, 1, 2, 0, 0, 1, 2, 2, 0, 1, 2, 0, 2, 1, 2, 0,\n",
       "       1, 0, 2, 0, 1, 0, 2, 1, 1, 1, 0, 1, 1, 0, 1, 0, 1, 0, 1, 2, 0, 1,\n",
       "       0, 1, 1, 2, 2, 1, 1, 2, 1, 1, 1, 0, 2, 1, 0, 1, 1, 0, 1, 1, 2, 0,\n",
       "       2, 0, 1, 2, 1, 0, 2, 1, 0, 2, 1, 1, 2, 1, 0, 1, 2, 2, 2, 2, 0, 0,\n",
       "       2, 2, 2, 2, 0, 1, 0, 2, 1, 2, 1, 1, 0, 2, 2, 0, 0, 0, 1, 2, 0, 1,\n",
       "       0, 1, 2, 1, 1, 1, 1, 0, 1, 2, 0, 0, 1, 2, 0, 0, 0, 2, 0, 1, 1, 0,\n",
       "       2, 2, 1, 1, 1, 1, 1, 1, 0, 1, 1, 2, 2, 0, 2, 1, 0, 0, 1, 2, 2, 0,\n",
       "       2, 2, 2, 1, 1, 0, 0, 0, 0, 2, 1, 2, 0, 0, 2, 0, 0, 0, 1, 0, 1, 1,\n",
       "       2, 1, 0, 2, 1, 0, 1, 1, 0, 1, 1, 0, 2, 1, 1, 1, 1, 1, 2, 1, 2, 0,\n",
       "       2, 2, 1, 2, 1, 0, 0, 1, 2, 2, 2, 0, 0, 2, 0, 1, 0, 0, 0, 2, 0, 2,\n",
       "       0, 1, 2, 0, 1, 1, 0, 0, 1, 0, 2, 0, 0, 0, 2, 0, 2, 0, 0, 1, 1, 0,\n",
       "       1, 1, 0, 1, 1, 1, 1, 1, 0, 0, 0, 2, 1, 0, 0, 1, 1, 0, 2, 2, 0, 1,\n",
       "       2, 1, 1, 1, 0, 1, 0, 0, 0, 0, 0, 0, 0, 0, 1, 1, 0, 1, 1, 1, 1, 0,\n",
       "       1, 1, 1, 0, 0, 0, 2, 0, 2, 0, 1, 1, 2, 0, 0, 1, 1, 2, 0, 2, 0, 0,\n",
       "       2, 0, 1, 0, 1, 2, 1, 1, 0, 0, 1, 2, 0, 0, 2, 1, 2, 0, 0, 0],\n",
       "      dtype=int64)"
      ]
     },
     "execution_count": 124,
     "metadata": {},
     "output_type": "execute_result"
    }
   ],
   "source": [
    "y_predRFC"
   ]
  },
  {
   "cell_type": "code",
   "execution_count": 125,
   "id": "fee15a6d",
   "metadata": {},
   "outputs": [
    {
     "data": {
      "text/plain": [
       "array([2, 0, 1, 0, 2, 1, 0, 2, 2, 1, 0, 2, 1, 1, 2, 0, 2, 2, 2, 0, 2, 0,\n",
       "       1, 2, 2, 0, 2, 2, 0, 1, 2, 0, 0, 1, 2, 2, 0, 2, 2, 0, 2, 1, 2, 0,\n",
       "       1, 0, 2, 0, 1, 0, 2, 1, 1, 1, 0, 1, 1, 0, 1, 0, 1, 0, 1, 2, 0, 1,\n",
       "       0, 1, 1, 2, 2, 1, 1, 2, 1, 1, 1, 0, 2, 1, 0, 1, 1, 0, 1, 1, 2, 0,\n",
       "       0, 0, 1, 2, 1, 0, 2, 1, 0, 2, 1, 1, 2, 1, 0, 1, 2, 2, 2, 2, 0, 0,\n",
       "       2, 2, 2, 2, 0, 1, 0, 2, 1, 2, 1, 1, 0, 2, 2, 0, 0, 0, 1, 2, 0, 1,\n",
       "       0, 1, 2, 1, 1, 1, 1, 0, 1, 2, 0, 0, 1, 2, 0, 0, 0, 2, 0, 1, 1, 0,\n",
       "       2, 2, 1, 1, 1, 1, 1, 1, 0, 1, 1, 2, 2, 0, 2, 1, 0, 0, 1, 2, 2, 0,\n",
       "       2, 2, 2, 1, 1, 0, 0, 0, 0, 2, 1, 2, 0, 0, 2, 0, 0, 0, 1, 0, 1, 1,\n",
       "       2, 1, 0, 2, 1, 0, 1, 1, 0, 1, 1, 0, 2, 1, 1, 1, 1, 1, 2, 1, 2, 0,\n",
       "       2, 2, 1, 2, 1, 0, 0, 1, 2, 2, 2, 0, 0, 2, 0, 1, 0, 0, 0, 2, 0, 2,\n",
       "       0, 1, 2, 0, 1, 1, 0, 0, 1, 0, 2, 0, 0, 0, 2, 0, 2, 0, 0, 1, 1, 0,\n",
       "       1, 1, 0, 1, 1, 1, 1, 1, 0, 0, 0, 2, 1, 0, 0, 1, 1, 0, 0, 2, 0, 1,\n",
       "       2, 1, 1, 1, 0, 1, 0, 0, 0, 0, 0, 0, 0, 0, 1, 1, 0, 1, 1, 1, 1, 0,\n",
       "       1, 1, 1, 0, 0, 0, 2, 0, 2, 0, 1, 1, 2, 0, 0, 1, 1, 2, 0, 2, 0, 0,\n",
       "       2, 0, 1, 0, 1, 2, 1, 1, 0, 0, 1, 2, 0, 0, 2, 1, 2, 0, 0, 0],\n",
       "      dtype=int64)"
      ]
     },
     "execution_count": 125,
     "metadata": {},
     "output_type": "execute_result"
    }
   ],
   "source": [
    "Y_test.values"
   ]
  },
  {
   "cell_type": "code",
   "execution_count": 126,
   "id": "23a960e4",
   "metadata": {},
   "outputs": [
    {
     "data": {
      "text/plain": [
       "0.9885714285714285"
      ]
     },
     "execution_count": 126,
     "metadata": {},
     "output_type": "execute_result"
    }
   ],
   "source": [
    "accuracy_score(y_predRFC,Y_test)"
   ]
  },
  {
   "cell_type": "code",
   "execution_count": 127,
   "id": "735a0d03",
   "metadata": {},
   "outputs": [
    {
     "data": {
      "text/plain": [
       "array([[127,   0,   0],\n",
       "       [  1, 126,   1],\n",
       "       [  2,   0,  93]], dtype=int64)"
      ]
     },
     "execution_count": 127,
     "metadata": {},
     "output_type": "execute_result"
    }
   ],
   "source": [
    "confusion_matrix(y_predRFC,Y_test)"
   ]
  },
  {
   "cell_type": "markdown",
   "id": "a6166693",
   "metadata": {},
   "source": [
    "# Naive Bayes"
   ]
  },
  {
   "cell_type": "code",
   "execution_count": 128,
   "id": "73bf88cf",
   "metadata": {},
   "outputs": [],
   "source": [
    "from sklearn.naive_bayes import GaussianNB\n",
    "gnb = GaussianNB()"
   ]
  },
  {
   "cell_type": "code",
   "execution_count": 129,
   "id": "523cad36",
   "metadata": {},
   "outputs": [],
   "source": [
    "gnb.fit(X_train,Y_train)\n",
    "y_predGNB = gnb.predict(X_test)"
   ]
  },
  {
   "cell_type": "code",
   "execution_count": 130,
   "id": "8c900929",
   "metadata": {},
   "outputs": [
    {
     "data": {
      "text/plain": [
       "array([0, 0, 1, 0, 0, 1, 0, 0, 0, 1, 0, 0, 1, 1, 0, 1, 1, 1, 0, 0, 0, 0,\n",
       "       1, 0, 0, 0, 0, 0, 0, 1, 1, 0, 0, 1, 1, 0, 0, 1, 1, 0, 0, 1, 1, 0,\n",
       "       1, 0, 0, 0, 1, 0, 0, 1, 1, 1, 0, 1, 1, 0, 1, 1, 1, 0, 1, 1, 0, 1,\n",
       "       0, 1, 1, 0, 0, 1, 1, 0, 1, 1, 1, 0, 0, 1, 0, 1, 1, 0, 1, 1, 0, 0,\n",
       "       1, 0, 1, 0, 1, 0, 1, 1, 0, 0, 1, 1, 1, 1, 0, 1, 0, 1, 0, 1, 0, 0,\n",
       "       1, 0, 0, 0, 0, 1, 0, 0, 1, 0, 1, 1, 0, 0, 1, 0, 0, 0, 1, 0, 0, 1,\n",
       "       0, 1, 1, 1, 1, 1, 1, 0, 1, 0, 0, 0, 1, 0, 0, 0, 0, 1, 0, 1, 1, 0,\n",
       "       0, 0, 1, 1, 1, 1, 1, 1, 0, 1, 1, 0, 1, 0, 1, 1, 0, 0, 1, 0, 1, 0,\n",
       "       0, 0, 1, 1, 1, 0, 0, 0, 0, 0, 1, 1, 0, 1, 1, 0, 0, 0, 1, 0, 1, 1,\n",
       "       0, 1, 0, 0, 1, 0, 1, 1, 0, 1, 1, 0, 0, 1, 1, 1, 1, 1, 0, 1, 0, 0,\n",
       "       0, 0, 1, 1, 1, 0, 0, 1, 0, 0, 0, 0, 0, 1, 0, 1, 0, 0, 0, 1, 0, 0,\n",
       "       0, 1, 1, 0, 1, 1, 0, 0, 1, 0, 0, 0, 0, 0, 0, 0, 1, 0, 0, 1, 1, 0,\n",
       "       1, 1, 0, 1, 1, 1, 1, 1, 0, 0, 0, 1, 1, 0, 0, 1, 1, 0, 1, 1, 0, 1,\n",
       "       1, 1, 1, 1, 0, 1, 0, 0, 1, 0, 0, 0, 0, 0, 1, 1, 0, 1, 1, 1, 1, 0,\n",
       "       1, 1, 1, 0, 0, 0, 0, 0, 0, 0, 1, 1, 0, 0, 0, 1, 1, 1, 0, 0, 0, 0,\n",
       "       0, 0, 1, 0, 1, 0, 1, 1, 0, 0, 1, 0, 0, 0, 1, 1, 0, 0, 0, 0],\n",
       "      dtype=int64)"
      ]
     },
     "execution_count": 130,
     "metadata": {},
     "output_type": "execute_result"
    }
   ],
   "source": [
    "y_predGNB"
   ]
  },
  {
   "cell_type": "code",
   "execution_count": 131,
   "id": "180c9005",
   "metadata": {},
   "outputs": [
    {
     "data": {
      "text/plain": [
       "array([2, 0, 1, 0, 2, 1, 0, 2, 2, 1, 0, 2, 1, 1, 2, 0, 2, 2, 2, 0, 2, 0,\n",
       "       1, 2, 2, 0, 2, 2, 0, 1, 2, 0, 0, 1, 2, 2, 0, 2, 2, 0, 2, 1, 2, 0,\n",
       "       1, 0, 2, 0, 1, 0, 2, 1, 1, 1, 0, 1, 1, 0, 1, 0, 1, 0, 1, 2, 0, 1,\n",
       "       0, 1, 1, 2, 2, 1, 1, 2, 1, 1, 1, 0, 2, 1, 0, 1, 1, 0, 1, 1, 2, 0,\n",
       "       0, 0, 1, 2, 1, 0, 2, 1, 0, 2, 1, 1, 2, 1, 0, 1, 2, 2, 2, 2, 0, 0,\n",
       "       2, 2, 2, 2, 0, 1, 0, 2, 1, 2, 1, 1, 0, 2, 2, 0, 0, 0, 1, 2, 0, 1,\n",
       "       0, 1, 2, 1, 1, 1, 1, 0, 1, 2, 0, 0, 1, 2, 0, 0, 0, 2, 0, 1, 1, 0,\n",
       "       2, 2, 1, 1, 1, 1, 1, 1, 0, 1, 1, 2, 2, 0, 2, 1, 0, 0, 1, 2, 2, 0,\n",
       "       2, 2, 2, 1, 1, 0, 0, 0, 0, 2, 1, 2, 0, 0, 2, 0, 0, 0, 1, 0, 1, 1,\n",
       "       2, 1, 0, 2, 1, 0, 1, 1, 0, 1, 1, 0, 2, 1, 1, 1, 1, 1, 2, 1, 2, 0,\n",
       "       2, 2, 1, 2, 1, 0, 0, 1, 2, 2, 2, 0, 0, 2, 0, 1, 0, 0, 0, 2, 0, 2,\n",
       "       0, 1, 2, 0, 1, 1, 0, 0, 1, 0, 2, 0, 0, 0, 2, 0, 2, 0, 0, 1, 1, 0,\n",
       "       1, 1, 0, 1, 1, 1, 1, 1, 0, 0, 0, 2, 1, 0, 0, 1, 1, 0, 0, 2, 0, 1,\n",
       "       2, 1, 1, 1, 0, 1, 0, 0, 0, 0, 0, 0, 0, 0, 1, 1, 0, 1, 1, 1, 1, 0,\n",
       "       1, 1, 1, 0, 0, 0, 2, 0, 2, 0, 1, 1, 2, 0, 0, 1, 1, 2, 0, 2, 0, 0,\n",
       "       2, 0, 1, 0, 1, 2, 1, 1, 0, 0, 1, 2, 0, 0, 2, 1, 2, 0, 0, 0],\n",
       "      dtype=int64)"
      ]
     },
     "execution_count": 131,
     "metadata": {},
     "output_type": "execute_result"
    }
   ],
   "source": [
    "Y_test.values"
   ]
  },
  {
   "cell_type": "code",
   "execution_count": 133,
   "id": "06ef0489",
   "metadata": {},
   "outputs": [
    {
     "data": {
      "text/plain": [
       "0.7142857142857143"
      ]
     },
     "execution_count": 133,
     "metadata": {},
     "output_type": "execute_result"
    }
   ],
   "source": [
    "accuracy_score(y_predGNB,Y_test)"
   ]
  },
  {
   "cell_type": "code",
   "execution_count": 134,
   "id": "38756f6f",
   "metadata": {},
   "outputs": [
    {
     "data": {
      "text/plain": [
       "array([[124,   0,  62],\n",
       "       [  6, 126,  32],\n",
       "       [  0,   0,   0]], dtype=int64)"
      ]
     },
     "execution_count": 134,
     "metadata": {},
     "output_type": "execute_result"
    }
   ],
   "source": [
    "confusion_matrix(y_predGNB,Y_test)"
   ]
  }
 ],
 "metadata": {
  "kernelspec": {
   "display_name": "Python 3 (ipykernel)",
   "language": "python",
   "name": "python3"
  },
  "language_info": {
   "codemirror_mode": {
    "name": "ipython",
    "version": 3
   },
   "file_extension": ".py",
   "mimetype": "text/x-python",
   "name": "python",
   "nbconvert_exporter": "python",
   "pygments_lexer": "ipython3",
   "version": "3.9.12"
  }
 },
 "nbformat": 4,
 "nbformat_minor": 5
}
